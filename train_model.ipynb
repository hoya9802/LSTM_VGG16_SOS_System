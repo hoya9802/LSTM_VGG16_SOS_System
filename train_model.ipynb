{
 "cells": [
  {
   "cell_type": "markdown",
   "id": "41bb7faf-a747-4c78-812c-b384af91f7f1",
   "metadata": {},
   "source": [
    "## 1. Import and Install Dependencies"
   ]
  },
  {
   "cell_type": "code",
   "execution_count": 1,
   "id": "011dcf5b-2a47-41af-b56f-1663deac7fca",
   "metadata": {},
   "outputs": [],
   "source": [
    "import cv2\n",
    "import numpy as np\n",
    "import os\n",
    "import matplotlib.pyplot as plt\n",
    "import time\n",
    "import mediapipe as mp\n",
    "from tensorflow.keras.models import load_model\n",
    "import matplotlib.pyplot as plt"
   ]
  },
  {
   "cell_type": "markdown",
   "id": "83fafd6f-a38a-4a1d-a142-2f41fe729653",
   "metadata": {},
   "source": [
    "## 2. Keypoints using MP Holistic"
   ]
  },
  {
   "cell_type": "code",
   "execution_count": 2,
   "id": "a42bca2c-1cb7-4a7b-936a-77ff1e20cf20",
   "metadata": {},
   "outputs": [],
   "source": [
    "mp_holistic = mp.solutions.holistic # holistic model\n",
    "mp_drawing = mp.solutions.drawing_utils # drawing utilities"
   ]
  },
  {
   "cell_type": "code",
   "execution_count": 3,
   "id": "96a6aec2-4287-4be8-ad53-60f681653c1e",
   "metadata": {},
   "outputs": [],
   "source": [
    "def mediapipe_detection(image, model):\n",
    "    image = cv2.cvtColor(image, cv2.COLOR_BGR2RGB)\n",
    "    image.flags.writeable = False\n",
    "    results = model.process(image)\n",
    "    image.flags.writeable = True\n",
    "    image = cv2.cvtColor(image, cv2.COLOR_RGB2BGR)\n",
    "    \n",
    "    return image, results"
   ]
  },
  {
   "cell_type": "code",
   "execution_count": 4,
   "id": "992ac4bf-c8bf-4745-92a0-94e8cde94508",
   "metadata": {},
   "outputs": [],
   "source": [
    "def draw_landmarks(images, results):\n",
    "    mp_drawing.draw_landmarks(images, results.left_hand_landmarks, mp_holistic.HAND_CONNECTIONS) # Draw left hand connections\n",
    "    mp_drawing.draw_landmarks(images, results.right_hand_landmarks, mp_holistic.HAND_CONNECTIONS) # Draw right hand connections"
   ]
  },
  {
   "cell_type": "code",
   "execution_count": 5,
   "id": "316b5298-6925-4d44-8038-345a85f87f40",
   "metadata": {},
   "outputs": [],
   "source": [
    "def draw_styled_landmarks(images, results):\n",
    "    \n",
    "    # Draw left hand connections\n",
    "    mp_drawing.draw_landmarks(images, results.left_hand_landmarks, mp_holistic.HAND_CONNECTIONS)\n",
    "    \n",
    "    # Draw right hand connections    \n",
    "    mp_drawing.draw_landmarks(images, results.right_hand_landmarks, mp_holistic.HAND_CONNECTIONS) \n",
    "    "
   ]
  },
  {
   "cell_type": "markdown",
   "id": "15b65448-d095-4aa1-9db5-66001d5065b4",
   "metadata": {},
   "source": [
    "## 3. Extract Keypoint Values"
   ]
  },
  {
   "cell_type": "code",
   "execution_count": 6,
   "id": "1f88327c-96cb-4a0d-9e83-2bb8ce8a9b3d",
   "metadata": {},
   "outputs": [],
   "source": [
    "def hand_extract_keypoints(results):\n",
    "    lh = np.array([[res.x, res.y, res.z] for res in results.right_hand_landmarks.landmark]).flatten() if results.right_hand_landmarks else np.zeros(21*3)\n",
    "    rh = np.array([[res.x, res.y, res.z] for res in results.left_hand_landmarks.landmark]).flatten() if results.left_hand_landmarks else np.zeros(21*3)\n",
    "    return np.concatenate([lh, rh])"
   ]
  },
  {
   "cell_type": "markdown",
   "id": "e785375c-3a39-483d-a0f5-d0b6c8c542ad",
   "metadata": {},
   "source": [
    "## 4. Setup Folders for Collection"
   ]
  },
  {
   "cell_type": "code",
   "execution_count": 7,
   "id": "ceb6a770-3f9d-4fa2-8c1e-9cf02989a556",
   "metadata": {},
   "outputs": [],
   "source": [
    "# path ofr exported data, numpy arrays\n",
    "DATA_PATH = os.path.join('C:/Users/hoya9/Desktop/LSTM_Help/data')\n",
    "\n",
    "# Actions that we try to detect\n",
    "actions = np.array(['nothing', 'hand_out', 'fist', 'help'])\n",
    "\n",
    "# Thirty videos worth of data\n",
    "no_sequences = 30\n",
    "\n",
    "# Video are going to be 30 frames in length\n",
    "sequence_length = 30"
   ]
  },
  {
   "cell_type": "code",
   "execution_count": 8,
   "id": "daf2a421-b0ad-4227-bede-93abcc14c866",
   "metadata": {},
   "outputs": [],
   "source": [
    "# for action in actions:\n",
    "#     for sequence in range(no_sequences):\n",
    "#         try:\n",
    "#             os.makedirs(os.path.join(DATA_PATH, action, str(sequence)))\n",
    "#         except:\n",
    "#             pass"
   ]
  },
  {
   "cell_type": "markdown",
   "id": "1eca5b3b-359e-49a5-8a94-147febcfdf97",
   "metadata": {},
   "source": [
    "## 6. Preprocess Data and Create Labels and Features"
   ]
  },
  {
   "cell_type": "code",
   "execution_count": 8,
   "id": "09706f7c-dae1-4c23-8d6e-ddc1f153a520",
   "metadata": {},
   "outputs": [],
   "source": [
    "from sklearn.model_selection import train_test_split\n",
    "from tensorflow.keras.utils import to_categorical"
   ]
  },
  {
   "cell_type": "code",
   "execution_count": 9,
   "id": "6ba3ea92-e27b-4cbc-b21a-8904e6651734",
   "metadata": {},
   "outputs": [],
   "source": [
    "label_map = {label:num for num, label in enumerate(actions)}"
   ]
  },
  {
   "cell_type": "code",
   "execution_count": 10,
   "id": "56b4c030-2f60-4627-bc09-bcfb22f3460b",
   "metadata": {},
   "outputs": [
    {
     "data": {
      "text/plain": [
       "{'nothing': 0, 'hand_out': 1, 'fist': 2, 'help': 3}"
      ]
     },
     "execution_count": 10,
     "metadata": {},
     "output_type": "execute_result"
    }
   ],
   "source": [
    "label_map"
   ]
  },
  {
   "cell_type": "code",
   "execution_count": 11,
   "id": "0c73f16b-ca3f-4eba-a03b-1f9302b90183",
   "metadata": {},
   "outputs": [],
   "source": [
    "sequences, labels = [], []\n",
    "for action in actions:\n",
    "    for sequence in range(no_sequences):\n",
    "        window = []\n",
    "        for frame_num in range(sequence_length):\n",
    "            res = np.load(os.path.join(DATA_PATH, action, str(sequence), '{}.npy'.format(frame_num)))\n",
    "            window.append(res)\n",
    "        sequences.append(window)\n",
    "        labels.append(label_map[action])"
   ]
  },
  {
   "cell_type": "code",
   "execution_count": 12,
   "id": "25e85cfa-0a89-4509-9dbc-fb136f7a50cf",
   "metadata": {},
   "outputs": [
    {
     "data": {
      "text/plain": [
       "(120, 30, 126)"
      ]
     },
     "execution_count": 12,
     "metadata": {},
     "output_type": "execute_result"
    }
   ],
   "source": [
    "np.array(sequences).shape"
   ]
  },
  {
   "cell_type": "code",
   "execution_count": 13,
   "id": "7facf30a-4d11-4f5e-aeaf-e14197fa819c",
   "metadata": {},
   "outputs": [
    {
     "data": {
      "text/plain": [
       "(120, 30, 126)"
      ]
     },
     "execution_count": 13,
     "metadata": {},
     "output_type": "execute_result"
    }
   ],
   "source": [
    "np.array(sequences).shape"
   ]
  },
  {
   "cell_type": "code",
   "execution_count": 14,
   "id": "32c705ac-bce5-427e-b741-f10fd7747ff3",
   "metadata": {},
   "outputs": [
    {
     "data": {
      "text/plain": [
       "(120,)"
      ]
     },
     "execution_count": 14,
     "metadata": {},
     "output_type": "execute_result"
    }
   ],
   "source": [
    "np.array(labels).shape"
   ]
  },
  {
   "cell_type": "code",
   "execution_count": 15,
   "id": "c4caffd8-c69a-4e41-af98-47a251874aa5",
   "metadata": {},
   "outputs": [],
   "source": [
    "x = np.array(sequences)"
   ]
  },
  {
   "cell_type": "code",
   "execution_count": 16,
   "id": "7a2079cb-027b-4e99-bc36-4c2eeda342d0",
   "metadata": {},
   "outputs": [
    {
     "data": {
      "text/plain": [
       "(120, 30, 126)"
      ]
     },
     "execution_count": 16,
     "metadata": {},
     "output_type": "execute_result"
    }
   ],
   "source": [
    "x.shape"
   ]
  },
  {
   "cell_type": "code",
   "execution_count": 17,
   "id": "119b0e36-ca70-486a-9bd8-2ada4145596b",
   "metadata": {},
   "outputs": [],
   "source": [
    "y = to_categorical(labels).astype(int)"
   ]
  },
  {
   "cell_type": "code",
   "execution_count": 18,
   "id": "7d892f93-72e1-4e4a-8fa5-41e36bbca574",
   "metadata": {},
   "outputs": [],
   "source": [
    "x_train, x_test, y_train, y_test = train_test_split(x, y, test_size=.2)"
   ]
  },
  {
   "cell_type": "code",
   "execution_count": 19,
   "id": "b84dfaae-640d-4dd5-9504-7e4cea7c98ba",
   "metadata": {},
   "outputs": [
    {
     "data": {
      "text/plain": [
       "((24, 30, 126), (24, 4))"
      ]
     },
     "execution_count": 19,
     "metadata": {},
     "output_type": "execute_result"
    }
   ],
   "source": [
    "x_test.shape, y_test.shape"
   ]
  },
  {
   "cell_type": "markdown",
   "id": "b486c6ce-b99c-4931-bc0a-79ff71d2b2f3",
   "metadata": {},
   "source": [
    "## 7. Build and Train LSTM Neural Networkto_categorical"
   ]
  },
  {
   "cell_type": "code",
   "execution_count": 20,
   "id": "dcaf12d5-75fc-41f1-baf7-f446b01d9548",
   "metadata": {},
   "outputs": [],
   "source": [
    "import tensorflow as tf\n",
    "from tensorflow.keras.models import Model\n",
    "from tensorflow.keras.layers import SimpleRNN, LSTM, Dense, Input\n",
    "from tensorflow.keras.callbacks import TensorBoard"
   ]
  },
  {
   "cell_type": "code",
   "execution_count": 22,
   "id": "a3c0bdac-2127-4d83-8940-d7ee5ab3ebed",
   "metadata": {},
   "outputs": [],
   "source": [
    "log_dir = os.path.join('Logs_LSTM')\n",
    "tb_callback = TensorBoard(log_dir=log_dir)"
   ]
  },
  {
   "cell_type": "markdown",
   "id": "04a294f1-43c8-4908-b567-950c8dead46a",
   "metadata": {},
   "source": [
    "## LSTM"
   ]
  },
  {
   "cell_type": "code",
   "execution_count": 21,
   "id": "286225dd-e94f-4e96-a6be-7cc1c34192f0",
   "metadata": {},
   "outputs": [],
   "source": [
    "input_shape = Input(shape=(30, 126))\n",
    "layer = SimpleRNN(64, return_sequences=True, activation='relu')(input_shape)\n",
    "layer = SimpleRNN(128, return_sequences=True, activation='relu')(layer)\n",
    "layer = SimpleRNN(64, return_sequences=False, activation='relu')(layer)\n",
    "layer = Dense(64, activation='relu')(layer)\n",
    "layer = Dense(32, activation='relu')(layer)\n",
    "output = Dense(actions.shape[0], activation='softmax')(layer)"
   ]
  },
  {
   "cell_type": "markdown",
   "id": "e443a0fd-1a00-4d10-bd76-0686fb8515c5",
   "metadata": {},
   "source": [
    "## RNN"
   ]
  },
  {
   "cell_type": "code",
   "execution_count": 24,
   "id": "0ca9a4b1-5d5c-4932-a46a-c316afdfded6",
   "metadata": {},
   "outputs": [],
   "source": [
    "# input_shape = Input(shape=(20, 126))\n",
    "# layer = SimpleRNN(64, return_sequences=True, activation='relu')(input_shape)\n",
    "# layer = SimpleRNN(128, return_sequences=True, activation='relu')(layer)\n",
    "# layer = SimpleRNN(64, return_sequences=False, activation='relu')(layer)\n",
    "# layer = Dense(64, activation='relu')(layer)\n",
    "# layer = Dense(32, activation='relu')(layer)\n",
    "# output = Dense(actions.shape[0], activation='softmax')(layer)"
   ]
  },
  {
   "cell_type": "markdown",
   "id": "adfe7e3f-89fc-4359-a871-4d037783f76e",
   "metadata": {
    "tags": []
   },
   "source": [
    "## ----------------------------------------------------------------"
   ]
  },
  {
   "cell_type": "code",
   "execution_count": 22,
   "id": "cbacc781-64d4-4e96-87a3-65389493ff02",
   "metadata": {},
   "outputs": [],
   "source": [
    "model = Model(input_shape, output, name='LSTM')\n",
    "model = Model(input_shape, output, name='RNN')"
   ]
  },
  {
   "cell_type": "code",
   "execution_count": 23,
   "id": "fc45b6a1-46cc-49ac-92a9-da3d2a583a46",
   "metadata": {},
   "outputs": [
    {
     "name": "stdout",
     "output_type": "stream",
     "text": [
      "Model: \"RNN\"\n",
      "_________________________________________________________________\n",
      "Layer (type)                 Output Shape              Param #   \n",
      "=================================================================\n",
      "input_1 (InputLayer)         [(None, 30, 126)]         0         \n",
      "_________________________________________________________________\n",
      "simple_rnn (SimpleRNN)       (None, 30, 64)            12224     \n",
      "_________________________________________________________________\n",
      "simple_rnn_1 (SimpleRNN)     (None, 30, 128)           24704     \n",
      "_________________________________________________________________\n",
      "simple_rnn_2 (SimpleRNN)     (None, 64)                12352     \n",
      "_________________________________________________________________\n",
      "dense (Dense)                (None, 64)                4160      \n",
      "_________________________________________________________________\n",
      "dense_1 (Dense)              (None, 32)                2080      \n",
      "_________________________________________________________________\n",
      "dense_2 (Dense)              (None, 4)                 132       \n",
      "=================================================================\n",
      "Total params: 55,652\n",
      "Trainable params: 55,652\n",
      "Non-trainable params: 0\n",
      "_________________________________________________________________\n"
     ]
    }
   ],
   "source": [
    "model.summary()"
   ]
  },
  {
   "cell_type": "code",
   "execution_count": 24,
   "id": "6392ec14-5962-41d8-9903-c4e32d96b0fc",
   "metadata": {},
   "outputs": [],
   "source": [
    "model.compile(optimizer='Adam', loss='categorical_crossentropy', metrics=['categorical_accuracy'])"
   ]
  },
  {
   "cell_type": "code",
   "execution_count": 25,
   "id": "2ff0be6f-ea6d-4f5d-956a-ecb78ec238af",
   "metadata": {},
   "outputs": [],
   "source": [
    "checkpoint_cb = tf.keras.callbacks.ModelCheckpoint('best-model_RNN.h5')\n",
    "early_stopping = tf.keras.callbacks.EarlyStopping(monitor=\"loss\", patience=10, restore_best_weights=True)"
   ]
  },
  {
   "cell_type": "code",
   "execution_count": 26,
   "id": "962db380-7369-41ad-bd6b-5b1f49adc2a4",
   "metadata": {},
   "outputs": [
    {
     "name": "stdout",
     "output_type": "stream",
     "text": [
      "Epoch 1/100\n",
      "3/3 [==============================] - 0s 40ms/step - loss: 1.3943 - categorical_accuracy: 0.2292\n",
      "Epoch 2/100\n",
      "3/3 [==============================] - 0s 34ms/step - loss: 1.3302 - categorical_accuracy: 0.3229\n",
      "Epoch 3/100\n",
      "3/3 [==============================] - 0s 31ms/step - loss: 1.2862 - categorical_accuracy: 0.5208\n",
      "Epoch 4/100\n",
      "3/3 [==============================] - 0s 31ms/step - loss: 1.2338 - categorical_accuracy: 0.5208\n",
      "Epoch 5/100\n",
      "3/3 [==============================] - 0s 36ms/step - loss: 1.1957 - categorical_accuracy: 0.6042\n",
      "Epoch 6/100\n",
      "3/3 [==============================] - 0s 36ms/step - loss: 1.0847 - categorical_accuracy: 0.6979\n",
      "Epoch 7/100\n",
      "3/3 [==============================] - 0s 36ms/step - loss: 0.9520 - categorical_accuracy: 0.7812\n",
      "Epoch 8/100\n",
      "3/3 [==============================] - 0s 32ms/step - loss: 0.8197 - categorical_accuracy: 0.8333\n",
      "Epoch 9/100\n",
      "3/3 [==============================] - 0s 47ms/step - loss: 0.6716 - categorical_accuracy: 0.8021\n",
      "Epoch 10/100\n",
      "3/3 [==============================] - 0s 36ms/step - loss: 0.6040 - categorical_accuracy: 0.8438\n",
      "Epoch 11/100\n",
      "3/3 [==============================] - 0s 31ms/step - loss: 1.1309 - categorical_accuracy: 0.7604\n",
      "Epoch 12/100\n",
      "3/3 [==============================] - 0s 35ms/step - loss: 0.5579 - categorical_accuracy: 0.9479\n",
      "Epoch 13/100\n",
      "3/3 [==============================] - 0s 38ms/step - loss: 0.5197 - categorical_accuracy: 0.9271\n",
      "Epoch 14/100\n",
      "3/3 [==============================] - 0s 34ms/step - loss: 0.4314 - categorical_accuracy: 0.9375\n",
      "Epoch 15/100\n",
      "3/3 [==============================] - 0s 34ms/step - loss: 0.2863 - categorical_accuracy: 0.9583\n",
      "Epoch 16/100\n",
      "3/3 [==============================] - 0s 37ms/step - loss: 0.2804 - categorical_accuracy: 0.9271\n",
      "Epoch 17/100\n",
      "3/3 [==============================] - 0s 33ms/step - loss: 0.1480 - categorical_accuracy: 0.9583\n",
      "Epoch 18/100\n",
      "3/3 [==============================] - 0s 36ms/step - loss: 0.1402 - categorical_accuracy: 0.9583\n",
      "Epoch 19/100\n",
      "3/3 [==============================] - 0s 33ms/step - loss: 0.1842 - categorical_accuracy: 0.9271\n",
      "Epoch 20/100\n",
      "3/3 [==============================] - 0s 39ms/step - loss: 0.3447 - categorical_accuracy: 0.8854\n",
      "Epoch 21/100\n",
      "3/3 [==============================] - 0s 36ms/step - loss: 0.1114 - categorical_accuracy: 0.9688\n",
      "Epoch 22/100\n",
      "3/3 [==============================] - 0s 37ms/step - loss: 0.1378 - categorical_accuracy: 0.9583\n",
      "Epoch 23/100\n",
      "3/3 [==============================] - 0s 35ms/step - loss: 0.0738 - categorical_accuracy: 0.9792\n",
      "Epoch 24/100\n",
      "3/3 [==============================] - 0s 37ms/step - loss: 0.0769 - categorical_accuracy: 0.9792\n",
      "Epoch 25/100\n",
      "3/3 [==============================] - 0s 34ms/step - loss: 0.0786 - categorical_accuracy: 0.9688\n",
      "Epoch 26/100\n",
      "3/3 [==============================] - 0s 37ms/step - loss: 0.0393 - categorical_accuracy: 1.0000\n",
      "Epoch 27/100\n",
      "3/3 [==============================] - 0s 35ms/step - loss: 0.0769 - categorical_accuracy: 0.9688\n",
      "Epoch 28/100\n",
      "3/3 [==============================] - 0s 36ms/step - loss: 0.0439 - categorical_accuracy: 0.9792\n",
      "Epoch 29/100\n",
      "3/3 [==============================] - 0s 36ms/step - loss: 0.0262 - categorical_accuracy: 1.0000\n",
      "Epoch 30/100\n",
      "3/3 [==============================] - 0s 38ms/step - loss: 0.0223 - categorical_accuracy: 1.0000\n",
      "Epoch 31/100\n",
      "3/3 [==============================] - 0s 38ms/step - loss: 0.0114 - categorical_accuracy: 1.0000\n",
      "Epoch 32/100\n",
      "3/3 [==============================] - 0s 33ms/step - loss: 0.0162 - categorical_accuracy: 0.9896\n",
      "Epoch 33/100\n",
      "3/3 [==============================] - 0s 35ms/step - loss: 0.0077 - categorical_accuracy: 1.0000\n",
      "Epoch 34/100\n",
      "3/3 [==============================] - 0s 38ms/step - loss: 0.0081 - categorical_accuracy: 1.0000\n",
      "Epoch 35/100\n",
      "3/3 [==============================] - 0s 35ms/step - loss: 0.0071 - categorical_accuracy: 1.0000\n",
      "Epoch 36/100\n",
      "3/3 [==============================] - 0s 35ms/step - loss: 0.0050 - categorical_accuracy: 1.0000\n",
      "Epoch 37/100\n",
      "3/3 [==============================] - 0s 37ms/step - loss: 0.0042 - categorical_accuracy: 1.0000\n",
      "Epoch 38/100\n",
      "3/3 [==============================] - ETA: 0s - loss: 0.0022 - categorical_accuracy: 1.00 - 0s 37ms/step - loss: 0.0022 - categorical_accuracy: 1.0000\n",
      "Epoch 39/100\n",
      "3/3 [==============================] - 0s 35ms/step - loss: 0.0020 - categorical_accuracy: 1.0000\n",
      "Epoch 40/100\n",
      "3/3 [==============================] - 0s 38ms/step - loss: 0.0019 - categorical_accuracy: 1.0000\n",
      "Epoch 41/100\n",
      "3/3 [==============================] - 0s 36ms/step - loss: 0.0015 - categorical_accuracy: 1.0000\n",
      "Epoch 42/100\n",
      "3/3 [==============================] - 0s 35ms/step - loss: 0.0013 - categorical_accuracy: 1.0000\n",
      "Epoch 43/100\n",
      "3/3 [==============================] - 0s 33ms/step - loss: 0.0013 - categorical_accuracy: 1.0000\n",
      "Epoch 44/100\n",
      "3/3 [==============================] - 0s 35ms/step - loss: 0.0012 - categorical_accuracy: 1.0000\n",
      "Epoch 45/100\n",
      "3/3 [==============================] - 0s 34ms/step - loss: 0.0011 - categorical_accuracy: 1.0000\n",
      "Epoch 46/100\n",
      "3/3 [==============================] - 0s 34ms/step - loss: 0.0010 - categorical_accuracy: 1.0000\n",
      "Epoch 47/100\n",
      "3/3 [==============================] - 0s 37ms/step - loss: 8.0427e-04 - categorical_accuracy: 1.0000\n",
      "Epoch 48/100\n",
      "3/3 [==============================] - 0s 32ms/step - loss: 7.8567e-04 - categorical_accuracy: 1.0000\n",
      "Epoch 49/100\n",
      "3/3 [==============================] - 0s 41ms/step - loss: 6.8634e-04 - categorical_accuracy: 1.0000\n",
      "Epoch 50/100\n",
      "3/3 [==============================] - 0s 48ms/step - loss: 6.4725e-04 - categorical_accuracy: 1.0000\n",
      "Epoch 51/100\n",
      "3/3 [==============================] - 0s 40ms/step - loss: 5.9775e-04 - categorical_accuracy: 1.0000\n",
      "Epoch 52/100\n",
      "3/3 [==============================] - 0s 38ms/step - loss: 5.5029e-04 - categorical_accuracy: 1.0000\n",
      "Epoch 53/100\n",
      "3/3 [==============================] - 0s 36ms/step - loss: 5.1758e-04 - categorical_accuracy: 1.0000\n",
      "Epoch 54/100\n",
      "3/3 [==============================] - 0s 34ms/step - loss: 4.8377e-04 - categorical_accuracy: 1.0000\n",
      "Epoch 55/100\n",
      "3/3 [==============================] - 0s 38ms/step - loss: 4.5820e-04 - categorical_accuracy: 1.0000\n",
      "Epoch 56/100\n",
      "3/3 [==============================] - 0s 38ms/step - loss: 4.3080e-04 - categorical_accuracy: 1.0000\n",
      "Epoch 57/100\n",
      "3/3 [==============================] - 0s 37ms/step - loss: 4.0214e-04 - categorical_accuracy: 1.0000\n",
      "Epoch 58/100\n",
      "3/3 [==============================] - 0s 35ms/step - loss: 3.8344e-04 - categorical_accuracy: 1.0000\n",
      "Epoch 59/100\n",
      "3/3 [==============================] - 0s 34ms/step - loss: 3.7867e-04 - categorical_accuracy: 1.0000\n",
      "Epoch 60/100\n",
      "3/3 [==============================] - 0s 33ms/step - loss: 3.5029e-04 - categorical_accuracy: 1.0000\n",
      "Epoch 61/100\n",
      "3/3 [==============================] - 0s 38ms/step - loss: 3.2245e-04 - categorical_accuracy: 1.0000\n",
      "Epoch 62/100\n",
      "3/3 [==============================] - 0s 38ms/step - loss: 3.1218e-04 - categorical_accuracy: 1.0000\n",
      "Epoch 63/100\n",
      "3/3 [==============================] - 0s 38ms/step - loss: 2.9310e-04 - categorical_accuracy: 1.0000\n",
      "Epoch 64/100\n",
      "3/3 [==============================] - 0s 33ms/step - loss: 2.7491e-04 - categorical_accuracy: 1.0000\n",
      "Epoch 65/100\n",
      "3/3 [==============================] - 0s 34ms/step - loss: 2.6472e-04 - categorical_accuracy: 1.0000\n",
      "Epoch 66/100\n",
      "3/3 [==============================] - 0s 35ms/step - loss: 2.4377e-04 - categorical_accuracy: 1.0000\n",
      "Epoch 67/100\n",
      "3/3 [==============================] - 0s 34ms/step - loss: 2.2999e-04 - categorical_accuracy: 1.0000\n",
      "Epoch 68/100\n",
      "3/3 [==============================] - 0s 39ms/step - loss: 2.0407e-04 - categorical_accuracy: 1.0000\n",
      "Epoch 69/100\n",
      "3/3 [==============================] - 0s 34ms/step - loss: 1.7724e-04 - categorical_accuracy: 1.0000\n",
      "Epoch 70/100\n",
      "3/3 [==============================] - 0s 37ms/step - loss: 1.4738e-04 - categorical_accuracy: 1.0000\n",
      "Epoch 71/100\n",
      "3/3 [==============================] - 0s 34ms/step - loss: 1.3716e-04 - categorical_accuracy: 1.0000\n",
      "Epoch 72/100\n",
      "3/3 [==============================] - 0s 36ms/step - loss: 1.2867e-04 - categorical_accuracy: 1.0000\n",
      "Epoch 73/100\n",
      "3/3 [==============================] - 0s 34ms/step - loss: 1.1677e-04 - categorical_accuracy: 1.0000\n",
      "Epoch 74/100\n",
      "3/3 [==============================] - 0s 32ms/step - loss: 1.3755e-04 - categorical_accuracy: 1.0000\n",
      "Epoch 75/100\n",
      "3/3 [==============================] - 0s 37ms/step - loss: 1.0682e-04 - categorical_accuracy: 1.0000\n",
      "Epoch 76/100\n",
      "3/3 [==============================] - 0s 33ms/step - loss: 1.2366e-04 - categorical_accuracy: 1.0000\n",
      "Epoch 77/100\n",
      "3/3 [==============================] - 0s 39ms/step - loss: 1.2469e-04 - categorical_accuracy: 1.0000\n",
      "Epoch 78/100\n",
      "3/3 [==============================] - 0s 36ms/step - loss: 1.2181e-04 - categorical_accuracy: 1.0000\n",
      "Epoch 79/100\n",
      "3/3 [==============================] - 0s 32ms/step - loss: 1.1362e-04 - categorical_accuracy: 1.0000\n",
      "Epoch 80/100\n",
      "3/3 [==============================] - 0s 34ms/step - loss: 1.0129e-04 - categorical_accuracy: 1.0000\n",
      "Epoch 81/100\n",
      "3/3 [==============================] - 0s 36ms/step - loss: 8.8583e-05 - categorical_accuracy: 1.0000\n",
      "Epoch 82/100\n",
      "3/3 [==============================] - 0s 37ms/step - loss: 7.4372e-05 - categorical_accuracy: 1.0000\n",
      "Epoch 83/100\n",
      "3/3 [==============================] - 0s 35ms/step - loss: 6.4723e-05 - categorical_accuracy: 1.0000\n",
      "Epoch 84/100\n",
      "3/3 [==============================] - 0s 35ms/step - loss: 5.0613e-05 - categorical_accuracy: 1.0000\n",
      "Epoch 85/100\n",
      "3/3 [==============================] - 0s 35ms/step - loss: 5.2961e-05 - categorical_accuracy: 1.0000\n",
      "Epoch 86/100\n",
      "3/3 [==============================] - 0s 53ms/step - loss: 5.0865e-05 - categorical_accuracy: 1.0000\n",
      "Epoch 87/100\n",
      "3/3 [==============================] - 0s 32ms/step - loss: 4.0251e-05 - categorical_accuracy: 1.0000\n",
      "Epoch 88/100\n",
      "3/3 [==============================] - 0s 35ms/step - loss: 3.5348e-05 - categorical_accuracy: 1.0000\n",
      "Epoch 89/100\n",
      "3/3 [==============================] - 0s 36ms/step - loss: 3.2636e-05 - categorical_accuracy: 1.0000\n",
      "Epoch 90/100\n",
      "3/3 [==============================] - 0s 34ms/step - loss: 2.7402e-05 - categorical_accuracy: 1.0000\n",
      "Epoch 91/100\n",
      "3/3 [==============================] - 0s 41ms/step - loss: 2.4688e-05 - categorical_accuracy: 1.0000\n",
      "Epoch 92/100\n",
      "3/3 [==============================] - 0s 34ms/step - loss: 2.2062e-05 - categorical_accuracy: 1.0000\n",
      "Epoch 93/100\n",
      "3/3 [==============================] - 0s 34ms/step - loss: 1.9797e-05 - categorical_accuracy: 1.0000\n",
      "Epoch 94/100\n",
      "3/3 [==============================] - 0s 35ms/step - loss: 1.5738e-05 - categorical_accuracy: 1.0000\n",
      "Epoch 95/100\n",
      "3/3 [==============================] - 0s 35ms/step - loss: 1.4589e-05 - categorical_accuracy: 1.0000\n",
      "Epoch 96/100\n",
      "3/3 [==============================] - 0s 39ms/step - loss: 1.2967e-05 - categorical_accuracy: 1.0000\n",
      "Epoch 97/100\n",
      "3/3 [==============================] - 0s 35ms/step - loss: 1.1352e-05 - categorical_accuracy: 1.0000\n",
      "Epoch 98/100\n",
      "3/3 [==============================] - 0s 38ms/step - loss: 1.0166e-05 - categorical_accuracy: 1.0000\n",
      "Epoch 99/100\n",
      "3/3 [==============================] - 0s 41ms/step - loss: 9.4271e-06 - categorical_accuracy: 1.0000\n",
      "Epoch 100/100\n",
      "3/3 [==============================] - 0s 37ms/step - loss: 8.9664e-06 - categorical_accuracy: 1.0000\n"
     ]
    }
   ],
   "source": [
    "history = model.fit(x_train, y_train, epochs=100, callbacks=[checkpoint_cb, early_stopping])"
   ]
  },
  {
   "cell_type": "code",
   "execution_count": 27,
   "id": "0d1133b4-23a1-41b5-8f00-a1440109aeb8",
   "metadata": {},
   "outputs": [
    {
     "data": {
      "image/png": "[encoded data removed]",
      "text/plain": [
       "<Figure size 432x288 with 1 Axes>"
      ]
     },
     "metadata": {
      "needs_background": "light"
     },
     "output_type": "display_data"
    },
    {
     "data": {
      "image/png": "[encoded data removed]",
      "text/plain": [
       "<Figure size 432x288 with 1 Axes>"
      ]
     },
     "metadata": {
      "needs_background": "light"
     },
     "output_type": "display_data"
    }
   ],
   "source": [
    "plt.plot(history.history['categorical_accuracy'], 'b')\n",
    "plt.title('Accuracy')\n",
    "plt.legend(['train'], loc='upper left')\n",
    "plt.show()\n",
    "plt.plot(history.history['loss'], 'r')\n",
    "plt.title('Loss')\n",
    "plt.legend(['train'], loc='upper left')\n",
    "plt.show()"
   ]
  },
  {
   "cell_type": "markdown",
   "id": "9cf1fb76-93a4-402f-aa0b-b2dc408625a2",
   "metadata": {},
   "source": [
    "## 9. Load Weights"
   ]
  },
  {
   "cell_type": "code",
   "execution_count": 29,
   "id": "80ecd0e8-46a6-43e0-bdfc-201b0957ff26",
   "metadata": {},
   "outputs": [],
   "source": [
    "model = load_model('C:/Users/hoya9/Desktop/LSTM_Help/best-model_RNN.h5')\n",
    "# emotion_model = load_model('C:/Users/hoya9/Desktop/Face_Classification/Emotion_little_vgg.h5')"
   ]
  },
  {
   "cell_type": "markdown",
   "id": "3b86d640-63c8-494e-9b9e-cf3ed5377fee",
   "metadata": {},
   "source": [
    "## 8. Make Predictions"
   ]
  },
  {
   "cell_type": "code",
   "execution_count": 30,
   "id": "0db41b86-f984-4c39-ad8b-36e198745344",
   "metadata": {},
   "outputs": [],
   "source": [
    "res = model.predict(x_test)"
   ]
  },
  {
   "cell_type": "code",
   "execution_count": 31,
   "id": "c1a460bd-af2d-4099-82ae-c4a1feb78ef9",
   "metadata": {},
   "outputs": [
    {
     "data": {
      "text/plain": [
       "'hand_out'"
      ]
     },
     "execution_count": 31,
     "metadata": {},
     "output_type": "execute_result"
    }
   ],
   "source": [
    "actions[np.argmax(res[4])]"
   ]
  },
  {
   "cell_type": "code",
   "execution_count": 32,
   "id": "e430e8d5-3033-4c00-a0a8-570045783ad8",
   "metadata": {},
   "outputs": [
    {
     "data": {
      "text/plain": [
       "'hand_out'"
      ]
     },
     "execution_count": 32,
     "metadata": {},
     "output_type": "execute_result"
    }
   ],
   "source": [
    "actions[np.argmax(y_test[4])]"
   ]
  },
  {
   "cell_type": "markdown",
   "id": "5d4c44c8-296e-422b-9d7f-75462cb18d84",
   "metadata": {},
   "source": [
    "## 10. Evaluation using Confusion Matrix and Accuracy"
   ]
  },
  {
   "cell_type": "code",
   "execution_count": 33,
   "id": "f2702f8b-b228-4333-b174-6507f91d6050",
   "metadata": {},
   "outputs": [],
   "source": [
    "from sklearn.metrics import multilabel_confusion_matrix, accuracy_score"
   ]
  },
  {
   "cell_type": "code",
   "execution_count": 34,
   "id": "c064d581-d98e-471b-b3b9-5bac28750915",
   "metadata": {},
   "outputs": [],
   "source": [
    "yhat = model.predict(x_test)"
   ]
  },
  {
   "cell_type": "code",
   "execution_count": 35,
   "id": "35688490-c91b-4e50-8acf-742acd5741cf",
   "metadata": {},
   "outputs": [],
   "source": [
    "ytrue = np.argmax(y_test, axis=1).tolist()\n",
    "yhat = np.argmax(yhat, axis=1).tolist()"
   ]
  },
  {
   "cell_type": "code",
   "execution_count": 36,
   "id": "80671a26-695f-4863-85fd-a9d698b06cbf",
   "metadata": {},
   "outputs": [
    {
     "data": {
      "text/plain": [
       "array([[[20,  0],\n",
       "        [ 0,  4]],\n",
       "\n",
       "       [[16,  0],\n",
       "        [ 1,  7]],\n",
       "\n",
       "       [[17,  1],\n",
       "        [ 0,  6]],\n",
       "\n",
       "       [[18,  0],\n",
       "        [ 0,  6]]], dtype=int64)"
      ]
     },
     "execution_count": 36,
     "metadata": {},
     "output_type": "execute_result"
    }
   ],
   "source": [
    "multilabel_confusion_matrix(ytrue, yhat)"
   ]
  },
  {
   "cell_type": "code",
   "execution_count": 37,
   "id": "d9d9a2ad-8ccd-403f-8114-a47f4c99c11b",
   "metadata": {},
   "outputs": [
    {
     "data": {
      "text/plain": [
       "0.9583333333333334"
      ]
     },
     "execution_count": 37,
     "metadata": {},
     "output_type": "execute_result"
    }
   ],
   "source": [
    "accuracy_score(ytrue, yhat)"
   ]
  },
  {
   "cell_type": "code",
   "execution_count": 38,
   "id": "5a10a96c-97f1-4894-bd68-4702b3cbe57d",
   "metadata": {},
   "outputs": [
    {
     "data": {
      "text/plain": [
       "0.9583333333333334"
      ]
     },
     "execution_count": 38,
     "metadata": {},
     "output_type": "execute_result"
    }
   ],
   "source": [
    "from sklearn.metrics import precision_score\n",
    "precision_score(ytrue, yhat, average='micro')"
   ]
  },
  {
   "cell_type": "code",
   "execution_count": 39,
   "id": "37801adc-d612-47bc-9e20-f2676eb87bba",
   "metadata": {},
   "outputs": [
    {
     "data": {
      "text/plain": [
       "('Recall Score :', 0.9583333333333334)"
      ]
     },
     "execution_count": 39,
     "metadata": {},
     "output_type": "execute_result"
    }
   ],
   "source": [
    "from sklearn.metrics import recall_score\n",
    "\"Recall Score :\" , recall_score(ytrue, yhat, average='micro')"
   ]
  },
  {
   "cell_type": "code",
   "execution_count": null,
   "id": "70126028-8fee-4454-95b4-3f441ab3da13",
   "metadata": {},
   "outputs": [],
   "source": []
  },
  {
   "cell_type": "markdown",
   "id": "4e592d96-4000-4656-b4d7-72becf4cabd2",
   "metadata": {},
   "source": [
    "## 11. Test Real Time"
   ]
  },
  {
   "cell_type": "code",
   "execution_count": 30,
   "id": "cf6b1c61-78e5-4339-8e92-f153be1d59f5",
   "metadata": {},
   "outputs": [],
   "source": [
    "colors = [(245, 117, 16), (117, 245, 16), (16, 117, 245), (0, 255, 255)]\n",
    "def prob_viz(res, actions, input_frame, colors):\n",
    "    output_frame = input_frame.copy()\n",
    "    for num, prob in enumerate(res):\n",
    "        cv2.rectangle(output_frame, (0, 60+num*40), (int(prob*100), 90+num*40), colors[num], -1)\n",
    "        cv2.putText(output_frame, actions[num], (0, 85+num*40), cv2.FONT_HERSHEY_SIMPLEX, 1, (255,255,255), 2, cv2.LINE_AA)\n",
    "    return output_frame\n"
   ]
  },
  {
   "cell_type": "code",
   "execution_count": 41,
   "id": "f8b43a78-a5e5-479c-a1db-3630b96210ec",
   "metadata": {},
   "outputs": [],
   "source": [
    "sequence = []\n",
    "sentence = []\n",
    "predictions = []\n",
    "threshold = 0.7\n",
    "\n",
    "cap = cv2.VideoCapture(0)\n",
    "# Set mediapipe model \n",
    "with mp_holistic.Holistic(min_detection_confidence=0.5, min_tracking_confidence=0.5) as holistic:\n",
    "    while cap.isOpened():\n",
    "\n",
    "        # Read feed\n",
    "        ret, frame = cap.read()\n",
    "\n",
    "        # Make detections\n",
    "        image, results = mediapipe_detection(frame, holistic)\n",
    "        \n",
    "        # Draw landmarks\n",
    "        draw_styled_landmarks(image, results)\n",
    "        \n",
    "        # 2. Prediction logic\n",
    "        keypoints = hand_extract_keypoints(results)\n",
    "        sequence.append(keypoints)\n",
    "        sequence = sequence[-30:]\n",
    "        \n",
    "        if len(sequence) == 30:\n",
    "            res = model.predict(np.expand_dims(sequence, axis=0))[0]\n",
    "            predictions.append(np.argmax(res))\n",
    "            \n",
    "            \n",
    "        #3. Viz logic\n",
    "            if np.unique(predictions[-10:])[0]==np.argmax(res): \n",
    "                if res[np.argmax(res)] > threshold: \n",
    "                    \n",
    "                    if len(sentence) > 0: \n",
    "                        if actions[np.argmax(res)] != sentence[-1]:\n",
    "                            sentence.append(actions[np.argmax(res)])\n",
    "                    else:\n",
    "                        sentence.append(actions[np.argmax(res)])\n",
    "\n",
    "            if len(sentence) > 3: \n",
    "                sentence = sentence[-3:]\n",
    "                \n",
    "            image = cv2.flip(image,1)\n",
    "\n",
    "            # Viz probabilities\n",
    "            image = prob_viz(res, actions, image, colors)\n",
    "        \n",
    "        cv2.rectangle(image, (0,0), (640, 40), (0, 0, 0), -1)\n",
    "        cv2.putText(image, ' '.join(sentence), (3,30), \n",
    "                       cv2.FONT_HERSHEY_SIMPLEX, 1, (0, 255, 255), 2, cv2.LINE_AA)\n",
    "        \n",
    "        # Show to screen\n",
    "        cv2.imshow('OpenCV Feed', image)\n",
    "\n",
    "        # Break gracefully\n",
    "        if cv2.waitKey(10) & 0xFF == ord('q'):\n",
    "            break\n",
    "    cap.release()\n",
    "    cv2.destroyAllWindows()"
   ]
  },
  {
   "cell_type": "code",
   "execution_count": 42,
   "id": "f96ff188-181f-4f7c-8b28-915204988302",
   "metadata": {},
   "outputs": [],
   "source": [
    "cap.release()\n",
    "cv2.destroyAllWindows()"
   ]
  },
  {
   "cell_type": "code",
   "execution_count": null,
   "id": "e89ed45b-b940-4acd-a682-83374c25ad93",
   "metadata": {},
   "outputs": [],
   "source": [
    "x_test[0].shape"
   ]
  },
  {
   "cell_type": "code",
   "execution_count": null,
   "id": "81ebb215-f998-401c-97df-7ac9030fa450",
   "metadata": {},
   "outputs": [],
   "source": [
    "np.expand_dims(x_test[0], axis=0).shape"
   ]
  },
  {
   "cell_type": "code",
   "execution_count": null,
   "id": "273bf0a5-bbae-49b1-bf5c-9b573186e089",
   "metadata": {},
   "outputs": [],
   "source": [
    "res[np.argmax(res)] > threshold"
   ]
  },
  {
   "cell_type": "code",
   "execution_count": null,
   "id": "a766649c-6495-4aa7-a2ec-43ba6eb9e7fc",
   "metadata": {},
   "outputs": [],
   "source": [
    "model.predict(np.expand_dims(x_test[0], axis=0))"
   ]
  },
  {
   "cell_type": "code",
   "execution_count": null,
   "id": "6cb81531-3586-4cbf-8887-fba5d77bbaeb",
   "metadata": {},
   "outputs": [],
   "source": []
  }
 ],
 "metadata": {
  "kernelspec": {
   "display_name": "[Tensorflow2.3-GPU]",
   "language": "python",
   "name": "tf-gpu"
  },
  "language_info": {
   "codemirror_mode": {
    "name": "ipython",
    "version": 3
   },
   "file_extension": ".py",
   "mimetype": "text/x-python",
   "name": "python",
   "nbconvert_exporter": "python",
   "pygments_lexer": "ipython3",
   "version": "3.8.11"
  }
 },
 "nbformat": 4,
 "nbformat_minor": 5
}
